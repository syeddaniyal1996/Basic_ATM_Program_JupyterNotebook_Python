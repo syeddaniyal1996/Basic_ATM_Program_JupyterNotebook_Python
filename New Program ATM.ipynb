{
 "cells": [
  {
   "cell_type": "code",
   "execution_count": 1,
   "id": "2835e533-1f27-49b9-920e-719a7b8acbec",
   "metadata": {},
   "outputs": [
    {
     "name": "stdout",
     "output_type": "stream",
     "text": [
      "============== Welcome============\n"
     ]
    },
    {
     "name": "stdin",
     "output_type": "stream",
     "text": [
      "Enter the pincode  1996\n"
     ]
    },
    {
     "name": "stdout",
     "output_type": "stream",
     "text": [
      "You pincode is verified \n",
      "1. WITHDRAW AMOUNT\n",
      "2. DEPOSIT AMOUNT\n",
      "3. CHECK BALANCE\n",
      "4. BACK\n"
     ]
    },
    {
     "name": "stdin",
     "output_type": "stream",
     "text": [
      "Select the Operation  4\n"
     ]
    },
    {
     "name": "stdout",
     "output_type": "stream",
     "text": [
      "Thank you for choosing our ATM. Have a great day! \n"
     ]
    }
   ],
   "source": [
    "#ATM Practice Program\n",
    "\n",
    "print('============== Welcome============')\n",
    "user_pincode = '1996'\n",
    "balance = 25000\n",
    "pin = input('Enter the pincode ')\n",
    "if pin == user_pincode:\n",
    "    print(\"You pincode is verified \")\n",
    "    \n",
    "    print('1. WITHDRAW AMOUNT')\n",
    "    print('2. DEPOSIT AMOUNT')\n",
    "    print('3. CHECK BALANCE')\n",
    "    print('4. BACK')\n",
    "    choice = input('Select the Operation ')\n",
    "    if choice == '1':\n",
    "        amount = int(input('Enter the Amount to withdraw: '))\n",
    "        if amount <= balance:\n",
    "            balance = balance - amount\n",
    "            print(\"Withdrawal successful! Remaining balance:\", balance)\n",
    "        else:\n",
    "            print('Sorry: Your balance is insufficient')\n",
    "    elif choice == '2':\n",
    "        amount = int(input('Enter the Amount to deposit: '))\n",
    "        if amount >= 1000:\n",
    "            balance = balance + amount\n",
    "            print(\"Deposit successful! Updated balance:\", balance)\n",
    "        else:\n",
    "            print('Sorry! Please enter the amount greater than and equal to 1000')\n",
    "    elif choice == '3':\n",
    "        print('Your current balance is:', balance)\n",
    "    elif choice == '4':\n",
    "        print('Thank you for choosing our ATM. Have a great day! ')\n",
    "    exit()\n",
    "\n",
    "else:\n",
    "    print('Your pincode is not verified: Please try again')\n",
    "    exit()"
   ]
  },
  {
   "cell_type": "code",
   "execution_count": null,
   "id": "6006e5d3-4944-46d8-87df-fa06c554a072",
   "metadata": {},
   "outputs": [],
   "source": []
  }
 ],
 "metadata": {
  "kernelspec": {
   "display_name": "Python 3 (ipykernel)",
   "language": "python",
   "name": "python3"
  },
  "language_info": {
   "codemirror_mode": {
    "name": "ipython",
    "version": 3
   },
   "file_extension": ".py",
   "mimetype": "text/x-python",
   "name": "python",
   "nbconvert_exporter": "python",
   "pygments_lexer": "ipython3",
   "version": "3.13.5"
  }
 },
 "nbformat": 4,
 "nbformat_minor": 5
}
