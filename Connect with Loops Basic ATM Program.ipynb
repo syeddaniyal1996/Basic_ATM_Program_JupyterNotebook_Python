{
 "cells": [
  {
   "cell_type": "code",
   "execution_count": 2,
   "id": "2835e533-1f27-49b9-920e-719a7b8acbec",
   "metadata": {},
   "outputs": [
    {
     "name": "stdout",
     "output_type": "stream",
     "text": [
      "============== Welcome to our ATM============\n"
     ]
    },
    {
     "name": "stdin",
     "output_type": "stream",
     "text": [
      "Enter the pincode:  1996\n"
     ]
    },
    {
     "name": "stdout",
     "output_type": "stream",
     "text": [
      "Your pincode is verified!\n",
      "Select Account Type: \n",
      "1. Current Account\n",
      "2. Savings Account\n",
      "3. Exit ATM\n"
     ]
    },
    {
     "name": "stdin",
     "output_type": "stream",
     "text": [
      "Enter your choice:  1\n"
     ]
    },
    {
     "name": "stdout",
     "output_type": "stream",
     "text": [
      "Account Menu: \n",
      "1. WITHDRAW AMOUNT\n",
      "2. DEPOSIT AMOUNT\n",
      "3. CHECK BALANCE\n",
      "4. BACK\n"
     ]
    },
    {
     "name": "stdin",
     "output_type": "stream",
     "text": [
      "Select the Operation:  3\n"
     ]
    },
    {
     "name": "stdout",
     "output_type": "stream",
     "text": [
      "Your current balance is: 25000\n",
      "Account Menu: \n",
      "1. WITHDRAW AMOUNT\n",
      "2. DEPOSIT AMOUNT\n",
      "3. CHECK BALANCE\n",
      "4. BACK\n"
     ]
    },
    {
     "name": "stdin",
     "output_type": "stream",
     "text": [
      "Select the Operation:  2\n",
      "Enter the Amount to deposit:  45600\n"
     ]
    },
    {
     "name": "stdout",
     "output_type": "stream",
     "text": [
      "Deposit successful! Updated balance: 70600\n",
      "Account Menu: \n",
      "1. WITHDRAW AMOUNT\n",
      "2. DEPOSIT AMOUNT\n",
      "3. CHECK BALANCE\n",
      "4. BACK\n"
     ]
    },
    {
     "name": "stdin",
     "output_type": "stream",
     "text": [
      "Select the Operation:  1\n",
      "Enter the Amount to withdraw:  20000\n"
     ]
    },
    {
     "name": "stdout",
     "output_type": "stream",
     "text": [
      "Withdrawal successful! Remaining balance: 50600\n",
      "Account Menu: \n",
      "1. WITHDRAW AMOUNT\n",
      "2. DEPOSIT AMOUNT\n",
      "3. CHECK BALANCE\n",
      "4. BACK\n"
     ]
    },
    {
     "name": "stdin",
     "output_type": "stream",
     "text": [
      "Select the Operation:  4\n"
     ]
    },
    {
     "name": "stdout",
     "output_type": "stream",
     "text": [
      "Going back to Account Selection...\n",
      "Select Account Type: \n",
      "1. Current Account\n",
      "2. Savings Account\n",
      "3. Exit ATM\n"
     ]
    },
    {
     "name": "stdin",
     "output_type": "stream",
     "text": [
      "Enter your choice:  3\n"
     ]
    },
    {
     "name": "stdout",
     "output_type": "stream",
     "text": [
      "Thank you for using our ATM. Have a Nice Day!\n"
     ]
    }
   ],
   "source": [
    "#ATM Practice Program\n",
    "\n",
    "print('============== Welcome to our ATM============')\n",
    "user_pincode = '1996'\n",
    "balance_current = 25000\n",
    "balance_savings = 10000\n",
    "\n",
    "pin = input('Enter the pincode: ')\n",
    "\n",
    "if pin == user_pincode:\n",
    "    print('Your pincode is verified!')\n",
    "\n",
    "    # Account Selection Menu\n",
    "    while True:\n",
    "        print('Select Account Type: ')\n",
    "        print('1. Current Account')\n",
    "        print('2. Savings Account')\n",
    "        print('3. Exit ATM')\n",
    "\n",
    "        acc_choice = input('Enter your choice: ')\n",
    "\n",
    "        if acc_choice == '1':\n",
    "            account = 'Current'\n",
    "            balance = balance_current\n",
    "        elif acc_choice == '2':\n",
    "            account = 'Savings'\n",
    "            balance = balance_savings\n",
    "        elif acc_choice == '3':\n",
    "            print('Thank you for using our ATM. Have a Nice Day!')\n",
    "            break\n",
    "        else:\n",
    "            print('Invalid option! Try again.')\n",
    "            continue\n",
    "\n",
    "        # Main ATM Scenario\n",
    "        while True:\n",
    "            print('Account Menu: ')\n",
    "            print('1. WITHDRAW AMOUNT')\n",
    "            print('2. DEPOSIT AMOUNT')\n",
    "            print('3. CHECK BALANCE')\n",
    "            print('4. BACK')\n",
    "            choice = input('Select the Operation: ')\n",
    "\n",
    "            if choice == '1':\n",
    "                amount = int(input('Enter the Amount to withdraw: '))\n",
    "                if amount <= balance:\n",
    "                    balance -= amount\n",
    "                    print(\"Withdrawal successful! Remaining balance:\", balance)\n",
    "                else:\n",
    "                    print('Insufficient balance.')\n",
    "            \n",
    "            elif choice == '2':\n",
    "                amount = int(input('Enter the Amount to deposit: '))\n",
    "                if amount >= 1000:\n",
    "                    balance += amount\n",
    "                    print(\"Deposit successful! Updated balance:\", balance)\n",
    "                else:\n",
    "                    print('Please deposit at least 1000.')\n",
    "            \n",
    "            elif choice == '3':\n",
    "                print('Your current balance is:', balance)\n",
    "            \n",
    "            elif choice == '4':\n",
    "                # Save updated balance back to the correct account\n",
    "                if account == 'Current':\n",
    "                    balance_current = balance\n",
    "                else:\n",
    "                    balance_savings = balance\n",
    "                print('Going back to Account Selection...')\n",
    "                break  # this exits back to account selection\n",
    "            \n",
    "            else:\n",
    "                print(\"Invalid option! Please try again.\")\n",
    "\n",
    "else:\n",
    "    print('Your pincode is not verified: Please try again')\n"
   ]
  },
  {
   "cell_type": "code",
   "execution_count": null,
   "id": "defb1fb1-67ec-499e-b18a-8e83d57857a1",
   "metadata": {},
   "outputs": [],
   "source": []
  }
 ],
 "metadata": {
  "kernelspec": {
   "display_name": "Python 3 (ipykernel)",
   "language": "python",
   "name": "python3"
  },
  "language_info": {
   "codemirror_mode": {
    "name": "ipython",
    "version": 3
   },
   "file_extension": ".py",
   "mimetype": "text/x-python",
   "name": "python",
   "nbconvert_exporter": "python",
   "pygments_lexer": "ipython3",
   "version": "3.13.5"
  }
 },
 "nbformat": 4,
 "nbformat_minor": 5
}
